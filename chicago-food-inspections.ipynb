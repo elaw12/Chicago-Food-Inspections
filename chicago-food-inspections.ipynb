{
 "cells": [
  {
   "cell_type": "markdown",
   "id": "d9444103",
   "metadata": {
    "papermill": {
     "duration": 0.015872,
     "end_time": "2024-09-10T03:54:55.639246",
     "exception": false,
     "start_time": "2024-09-10T03:54:55.623374",
     "status": "completed"
    },
    "tags": []
   },
   "source": [
    "# Chicago Food Inspections Analysis\n",
    "### A case study on cleaning up and exploring violations given to food establishments in the windy city.\n",
    "##### By: Elena Lawando\n",
    "##### Date Written: 09/07/2024\n",
    "\n",
    "This case study was performed following the six step data analysis process: ask, prepare, process, analyze, share, and act.\n",
    "\n",
    "## 1. Ask\n",
    "#### Background:\n",
    "The City of Chicago has a public data portal that includes a dataset on health inspections for food establishments. These inspections are conducted by the Chicago Department of Public Health's Food Protection Program. After the inspection, the results are inputted into the database. This database is reviewed by an IL Licensed Environmental Health Practitioner (LEHP) and updated daily. \n",
    "\n",
    "#### Task: \n",
    "Analyze data on Chicago's food inspections to identify patterns and trends on food establishments' compliance with health regulations set forth by the city. The main objective is to assess common violations based on the location, type, frequency, and outcomes of the inspections. This analysis will provide implementable findings that can improve operations and reduce violations to bring food establishments in the area to a higher health standard.\n",
    "\n",
    "Key deliverables: \n",
    "1. Determine key statistics on inspection frequency and risk type.\n",
    "2. Compare inspection results by areas and facility types.\n",
    "3. Identify top violations and inspection types.\n",
    "4. Recommend strategies to improve health compliance.\n",
    "    \n",
    "## 2. Prepare\n",
    "#### Datasource:\n",
    "Food Inspections Data made available through the [City of Chicago](https://data.cityofchicago.org/Health-Human-Services/Food-Inspections/4ijn-s7e5/about_data).\n",
    "\n",
    "#### Data Description:\n",
    "This dataset contains information about food inspections conducted in Chicago, IL. The data recorded includes the inspection number, business's legal name (DBA name), business's public name (AKA name), license number, facility type, risk (which determines the frequency of inspections), business  information, inspection date, inspection type, results, and violations (including inspector comments). This data was collected from January 04, 2010 through August 29, 2024. \n",
    "\n",
    "#### Organization: \n",
    "The data is a wide format CSV file, with unique inspection numbers for each row. \n",
    "\n",
    "#### Data Limitations:\n",
    "The data comes with a disclaimer indicating this data may have duplicate entries, and that food inspection procedures were changed on 07.01.2018. This data is also missing values for some of the location information. Additionally, this data has a few records of inspections from outside of Chicago, IL. \n",
    "\n",
    "#### Install and Load Relevant Packages:\n",
    "The packages used for this analysis include tidyverse, janitor, and skimr."
   ]
  },
  {
   "cell_type": "code",
   "execution_count": 1,
   "id": "e3bb24f0",
   "metadata": {
    "collapsed": true,
    "execution": {
     "iopub.execute_input": "2024-09-10T03:54:55.673482Z",
     "iopub.status.busy": "2024-09-10T03:54:55.670979Z",
     "iopub.status.idle": "2024-09-10T03:54:57.380435Z",
     "shell.execute_reply": "2024-09-10T03:54:57.378265Z"
    },
    "jupyter": {
     "outputs_hidden": true
    },
    "papermill": {
     "duration": 1.729704,
     "end_time": "2024-09-10T03:54:57.384600",
     "exception": false,
     "start_time": "2024-09-10T03:54:55.654896",
     "status": "completed"
    },
    "tags": []
   },
   "outputs": [
    {
     "name": "stderr",
     "output_type": "stream",
     "text": [
      "── \u001b[1mAttaching core tidyverse packages\u001b[22m ──────────────────────── tidyverse 2.0.0 ──\n",
      "\u001b[32m✔\u001b[39m \u001b[34mdplyr    \u001b[39m 1.1.4     \u001b[32m✔\u001b[39m \u001b[34mreadr    \u001b[39m 2.1.5\n",
      "\u001b[32m✔\u001b[39m \u001b[34mforcats  \u001b[39m 1.0.0     \u001b[32m✔\u001b[39m \u001b[34mstringr  \u001b[39m 1.5.1\n",
      "\u001b[32m✔\u001b[39m \u001b[34mggplot2  \u001b[39m 3.5.1     \u001b[32m✔\u001b[39m \u001b[34mtibble   \u001b[39m 3.2.1\n",
      "\u001b[32m✔\u001b[39m \u001b[34mlubridate\u001b[39m 1.9.3     \u001b[32m✔\u001b[39m \u001b[34mtidyr    \u001b[39m 1.3.1\n",
      "\u001b[32m✔\u001b[39m \u001b[34mpurrr    \u001b[39m 1.0.2     \n"
     ]
    },
    {
     "name": "stderr",
     "output_type": "stream",
     "text": [
      "── \u001b[1mConflicts\u001b[22m ────────────────────────────────────────── tidyverse_conflicts() ──\n",
      "\u001b[31m✖\u001b[39m \u001b[34mdplyr\u001b[39m::\u001b[32mfilter()\u001b[39m masks \u001b[34mstats\u001b[39m::filter()\n",
      "\u001b[31m✖\u001b[39m \u001b[34mdplyr\u001b[39m::\u001b[32mlag()\u001b[39m    masks \u001b[34mstats\u001b[39m::lag()\n",
      "\u001b[36mℹ\u001b[39m Use the conflicted package (\u001b[3m\u001b[34m<http://conflicted.r-lib.org/>\u001b[39m\u001b[23m) to force all conflicts to become errors\n"
     ]
    },
    {
     "name": "stderr",
     "output_type": "stream",
     "text": [
      "\n",
      "Attaching package: ‘janitor’\n",
      "\n",
      "\n"
     ]
    },
    {
     "name": "stderr",
     "output_type": "stream",
     "text": [
      "The following objects are masked from ‘package:stats’:\n",
      "\n",
      "    chisq.test, fisher.test\n",
      "\n",
      "\n"
     ]
    }
   ],
   "source": [
    "#load packages\n",
    "library(tidyverse)\n",
    "library(janitor)\n",
    "library(skimr)"
   ]
  },
  {
   "cell_type": "markdown",
   "id": "0ed493b0",
   "metadata": {
    "papermill": {
     "duration": 0.015267,
     "end_time": "2024-09-10T03:54:57.415518",
     "exception": false,
     "start_time": "2024-09-10T03:54:57.400251",
     "status": "completed"
    },
    "tags": []
   },
   "source": [
    "#### Creating Dataframes:\n",
    "The first thing to do is create a dataframe called food_inspections and glimpse the dataframe."
   ]
  },
  {
   "cell_type": "code",
   "execution_count": 2,
   "id": "946fd3be",
   "metadata": {
    "collapsed": true,
    "execution": {
     "iopub.execute_input": "2024-09-10T03:54:57.484336Z",
     "iopub.status.busy": "2024-09-10T03:54:57.447404Z",
     "iopub.status.idle": "2024-09-10T03:55:11.613398Z",
     "shell.execute_reply": "2024-09-10T03:55:11.610703Z"
    },
    "jupyter": {
     "outputs_hidden": true
    },
    "papermill": {
     "duration": 14.186826,
     "end_time": "2024-09-10T03:55:11.617674",
     "exception": false,
     "start_time": "2024-09-10T03:54:57.430848",
     "status": "completed"
    },
    "tags": []
   },
   "outputs": [
    {
     "name": "stdout",
     "output_type": "stream",
     "text": [
      "Rows: 277,961\n",
      "Columns: 17\n",
      "$ Inspection.ID   \u001b[3m\u001b[90m<int>\u001b[39m\u001b[23m 2601895, 2600874, 2600871, 2600845, 2600840, 2600796, …\n",
      "$ DBA.Name        \u001b[3m\u001b[90m<chr>\u001b[39m\u001b[23m \"PINCHED\", \"J'S DELI GROCERY & GRILL, INC.\", \"WEST END…\n",
      "$ AKA.Name        \u001b[3m\u001b[90m<chr>\u001b[39m\u001b[23m \"PINCHED\", \"J'S DELI GROCERY & GRILL\", \"WEST END TATA'…\n",
      "$ License..       \u001b[3m\u001b[90m<int>\u001b[39m\u001b[23m 2615889, 2694034, 1948046, 2791335, 2929007, 2957208, …\n",
      "$ Facility.Type   \u001b[3m\u001b[90m<chr>\u001b[39m\u001b[23m \"Restaurant\", \"\", \"Restaurant\", \"Restaurant\", \"Restaur…\n",
      "$ Risk            \u001b[3m\u001b[90m<chr>\u001b[39m\u001b[23m \"Risk 1 (High)\", \"Risk 2 (Medium)\", \"Risk 1 (High)\", \"…\n",
      "$ Address         \u001b[3m\u001b[90m<chr>\u001b[39m\u001b[23m \"443 E ILLINOIS ST \", \"51 E 51ST ST \", \"3019 W 111TH S…\n",
      "$ City            \u001b[3m\u001b[90m<chr>\u001b[39m\u001b[23m \"CHICAGO\", \"CHICAGO\", \"CHICAGO\", \"CHICAGO\", \"CHICAGO\",…\n",
      "$ State           \u001b[3m\u001b[90m<chr>\u001b[39m\u001b[23m \"IL\", \"IL\", \"IL\", \"IL\", \"IL\", \"IL\", \"IL\", \"IL\", \"IL\", …\n",
      "$ Zip             \u001b[3m\u001b[90m<int>\u001b[39m\u001b[23m 60611, 60615, 60655, 60628, 60652, 60611, 60657, 60617…\n",
      "$ Inspection.Date \u001b[3m\u001b[90m<chr>\u001b[39m\u001b[23m \"08/29/2024\", \"08/28/2024\", \"08/28/2024\", \"08/28/2024\"…\n",
      "$ Inspection.Type \u001b[3m\u001b[90m<chr>\u001b[39m\u001b[23m \"Canvass Re-Inspection\", \"Canvass\", \"Non-Inspection\", …\n",
      "$ Results         \u001b[3m\u001b[90m<chr>\u001b[39m\u001b[23m \"Pass\", \"Out of Business\", \"No Entry\", \"Out of Busines…\n",
      "$ Violations      \u001b[3m\u001b[90m<chr>\u001b[39m\u001b[23m \"47. FOOD & NON-FOOD CONTACT SURFACES CLEANABLE, PROPE…\n",
      "$ Latitude        \u001b[3m\u001b[90m<dbl>\u001b[39m\u001b[23m 41.89097, 41.80187, 41.69150, 41.72151, 41.74982, 41.8…\n",
      "$ Longitude       \u001b[3m\u001b[90m<dbl>\u001b[39m\u001b[23m -87.61607, -87.62391, -87.69695, -87.63181, -87.69024,…\n",
      "$ Location        \u001b[3m\u001b[90m<chr>\u001b[39m\u001b[23m \"(41.89097092907943, -87.61606705402203)\", \"(41.801868…\n"
     ]
    }
   ],
   "source": [
    "#create chicago food inspections df\n",
    "food_inspections <- read.csv(\"/kaggle/input/food-inspections-chicago/Food_Inspections_20240904.csv\")\n",
    "#take a look at the data\n",
    "glimpse(food_inspections)"
   ]
  },
  {
   "cell_type": "markdown",
   "id": "9b87c2b0",
   "metadata": {
    "papermill": {
     "duration": 0.01456,
     "end_time": "2024-09-10T03:55:11.648980",
     "exception": false,
     "start_time": "2024-09-10T03:55:11.634420",
     "status": "completed"
    },
    "tags": []
   },
   "source": [
    "A second dataframe is also needed for analyzing violations, because the violations prior to 07.01.2018 are different than the violations under the new procedures. The dataframe created will be called food_inspections_new and will include only data after 07.01.2018."
   ]
  },
  {
   "cell_type": "code",
   "execution_count": 3,
   "id": "5d4c34bb",
   "metadata": {
    "collapsed": true,
    "execution": {
     "iopub.execute_input": "2024-09-10T03:55:11.682686Z",
     "iopub.status.busy": "2024-09-10T03:55:11.680866Z",
     "iopub.status.idle": "2024-09-10T03:55:13.207655Z",
     "shell.execute_reply": "2024-09-10T03:55:13.204913Z"
    },
    "jupyter": {
     "outputs_hidden": true
    },
    "papermill": {
     "duration": 1.547277,
     "end_time": "2024-09-10T03:55:13.211299",
     "exception": false,
     "start_time": "2024-09-10T03:55:11.664022",
     "status": "completed"
    },
    "tags": []
   },
   "outputs": [
    {
     "name": "stdout",
     "output_type": "stream",
     "text": [
      "Rows: 105,083\n",
      "Columns: 17\n",
      "$ Inspection.ID   \u001b[3m\u001b[90m<int>\u001b[39m\u001b[23m 2601895, 2600874, 2600871, 2600845, 2600840, 2600796, …\n",
      "$ DBA.Name        \u001b[3m\u001b[90m<chr>\u001b[39m\u001b[23m \"PINCHED\", \"J'S DELI GROCERY & GRILL, INC.\", \"WEST END…\n",
      "$ AKA.Name        \u001b[3m\u001b[90m<chr>\u001b[39m\u001b[23m \"PINCHED\", \"J'S DELI GROCERY & GRILL\", \"WEST END TATA'…\n",
      "$ License..       \u001b[3m\u001b[90m<int>\u001b[39m\u001b[23m 2615889, 2694034, 1948046, 2791335, 2929007, 2957208, …\n",
      "$ Facility.Type   \u001b[3m\u001b[90m<chr>\u001b[39m\u001b[23m \"Restaurant\", \"\", \"Restaurant\", \"Restaurant\", \"Restaur…\n",
      "$ Risk            \u001b[3m\u001b[90m<chr>\u001b[39m\u001b[23m \"Risk 1 (High)\", \"Risk 2 (Medium)\", \"Risk 1 (High)\", \"…\n",
      "$ Address         \u001b[3m\u001b[90m<chr>\u001b[39m\u001b[23m \"443 E ILLINOIS ST \", \"51 E 51ST ST \", \"3019 W 111TH S…\n",
      "$ City            \u001b[3m\u001b[90m<chr>\u001b[39m\u001b[23m \"CHICAGO\", \"CHICAGO\", \"CHICAGO\", \"CHICAGO\", \"CHICAGO\",…\n",
      "$ State           \u001b[3m\u001b[90m<chr>\u001b[39m\u001b[23m \"IL\", \"IL\", \"IL\", \"IL\", \"IL\", \"IL\", \"IL\", \"IL\", \"IL\", …\n",
      "$ Zip             \u001b[3m\u001b[90m<int>\u001b[39m\u001b[23m 60611, 60615, 60655, 60628, 60652, 60611, 60657, 60617…\n",
      "$ Inspection.Date \u001b[3m\u001b[90m<date>\u001b[39m\u001b[23m 2024-08-29, 2024-08-28, 2024-08-28, 2024-08-28, 2024-…\n",
      "$ Inspection.Type \u001b[3m\u001b[90m<chr>\u001b[39m\u001b[23m \"Canvass Re-Inspection\", \"Canvass\", \"Non-Inspection\", …\n",
      "$ Results         \u001b[3m\u001b[90m<chr>\u001b[39m\u001b[23m \"Pass\", \"Out of Business\", \"No Entry\", \"Out of Busines…\n",
      "$ Violations      \u001b[3m\u001b[90m<chr>\u001b[39m\u001b[23m \"47. FOOD & NON-FOOD CONTACT SURFACES CLEANABLE, PROPE…\n",
      "$ Latitude        \u001b[3m\u001b[90m<dbl>\u001b[39m\u001b[23m 41.89097, 41.80187, 41.69150, 41.72151, 41.74982, 41.8…\n",
      "$ Longitude       \u001b[3m\u001b[90m<dbl>\u001b[39m\u001b[23m -87.61607, -87.62391, -87.69695, -87.63181, -87.69024,…\n",
      "$ Location        \u001b[3m\u001b[90m<chr>\u001b[39m\u001b[23m \"(41.89097092907943, -87.61606705402203)\", \"(41.801868…\n"
     ]
    }
   ],
   "source": [
    "# Convert the date column to Date type if it's not already\n",
    "food_inspections$Inspection.Date <- as.Date(food_inspections$Inspection.Date, format = \"%m/%d/%Y\")\n",
    "#filter the data to include only records from 07/01/2018 and onwards\n",
    "food_inspections_new <- food_inspections %>%\n",
    "  filter(Inspection.Date >= as.Date(\"2018-07-01\"))\n",
    "#glimpse the data\n",
    "glimpse(food_inspections_new)"
   ]
  },
  {
   "cell_type": "markdown",
   "id": "fb00a683",
   "metadata": {
    "papermill": {
     "duration": 0.014508,
     "end_time": "2024-09-10T03:55:13.240544",
     "exception": false,
     "start_time": "2024-09-10T03:55:13.226036",
     "status": "completed"
    },
    "tags": []
   },
   "source": [
    "## 3. Process\n",
    "#### Checking and Cleaning the Data:\n",
    "The dataframe, food_inspections, needs to be cleaned. This will be done by ensuring there are no duplicate inspections listed, and the column names are uniform.\n",
    "\n",
    "First, the data is cleaned using the clean_names function, and the cleaned column names are viewed using the colnames() function."
   ]
  },
  {
   "cell_type": "code",
   "execution_count": 4,
   "id": "13172e67",
   "metadata": {
    "execution": {
     "iopub.execute_input": "2024-09-10T03:55:13.274043Z",
     "iopub.status.busy": "2024-09-10T03:55:13.272162Z",
     "iopub.status.idle": "2024-09-10T03:55:13.391729Z",
     "shell.execute_reply": "2024-09-10T03:55:13.389590Z"
    },
    "papermill": {
     "duration": 0.139616,
     "end_time": "2024-09-10T03:55:13.394913",
     "exception": false,
     "start_time": "2024-09-10T03:55:13.255297",
     "status": "completed"
    },
    "tags": []
   },
   "outputs": [
    {
     "data": {
      "text/html": [
       "<style>\n",
       ".list-inline {list-style: none; margin:0; padding: 0}\n",
       ".list-inline>li {display: inline-block}\n",
       ".list-inline>li:not(:last-child)::after {content: \"\\00b7\"; padding: 0 .5ex}\n",
       "</style>\n",
       "<ol class=list-inline><li>'inspection_id'</li><li>'dba_name'</li><li>'aka_name'</li><li>'license'</li><li>'facility_type'</li><li>'risk'</li><li>'address'</li><li>'city'</li><li>'state'</li><li>'zip'</li><li>'inspection_date'</li><li>'inspection_type'</li><li>'results'</li><li>'violations'</li><li>'latitude'</li><li>'longitude'</li><li>'location'</li></ol>\n"
      ],
      "text/latex": [
       "\\begin{enumerate*}\n",
       "\\item 'inspection\\_id'\n",
       "\\item 'dba\\_name'\n",
       "\\item 'aka\\_name'\n",
       "\\item 'license'\n",
       "\\item 'facility\\_type'\n",
       "\\item 'risk'\n",
       "\\item 'address'\n",
       "\\item 'city'\n",
       "\\item 'state'\n",
       "\\item 'zip'\n",
       "\\item 'inspection\\_date'\n",
       "\\item 'inspection\\_type'\n",
       "\\item 'results'\n",
       "\\item 'violations'\n",
       "\\item 'latitude'\n",
       "\\item 'longitude'\n",
       "\\item 'location'\n",
       "\\end{enumerate*}\n"
      ],
      "text/markdown": [
       "1. 'inspection_id'\n",
       "2. 'dba_name'\n",
       "3. 'aka_name'\n",
       "4. 'license'\n",
       "5. 'facility_type'\n",
       "6. 'risk'\n",
       "7. 'address'\n",
       "8. 'city'\n",
       "9. 'state'\n",
       "10. 'zip'\n",
       "11. 'inspection_date'\n",
       "12. 'inspection_type'\n",
       "13. 'results'\n",
       "14. 'violations'\n",
       "15. 'latitude'\n",
       "16. 'longitude'\n",
       "17. 'location'\n",
       "\n",
       "\n"
      ],
      "text/plain": [
       " [1] \"inspection_id\"   \"dba_name\"        \"aka_name\"        \"license\"        \n",
       " [5] \"facility_type\"   \"risk\"            \"address\"         \"city\"           \n",
       " [9] \"state\"           \"zip\"             \"inspection_date\" \"inspection_type\"\n",
       "[13] \"results\"         \"violations\"      \"latitude\"        \"longitude\"      \n",
       "[17] \"location\"       "
      ]
     },
     "metadata": {},
     "output_type": "display_data"
    }
   ],
   "source": [
    "#clean column names\n",
    "food_inspections <- clean_names(food_inspections)\n",
    "#view cleaned column names\n",
    "colnames(food_inspections)"
   ]
  },
  {
   "cell_type": "markdown",
   "id": "39e662c0",
   "metadata": {
    "papermill": {
     "duration": 0.015051,
     "end_time": "2024-09-10T03:55:13.424987",
     "exception": false,
     "start_time": "2024-09-10T03:55:13.409936",
     "status": "completed"
    },
    "tags": []
   },
   "source": [
    "To verify there are no duplicate inspections recorded the following code is used."
   ]
  },
  {
   "cell_type": "code",
   "execution_count": 5,
   "id": "2ccafb67",
   "metadata": {
    "execution": {
     "iopub.execute_input": "2024-09-10T03:55:13.459039Z",
     "iopub.status.busy": "2024-09-10T03:55:13.457199Z",
     "iopub.status.idle": "2024-09-10T03:55:13.559833Z",
     "shell.execute_reply": "2024-09-10T03:55:13.557354Z"
    },
    "papermill": {
     "duration": 0.123414,
     "end_time": "2024-09-10T03:55:13.563279",
     "exception": false,
     "start_time": "2024-09-10T03:55:13.439865",
     "status": "completed"
    },
    "tags": []
   },
   "outputs": [
    {
     "data": {
      "text/plain": [
       "NULL"
      ]
     },
     "metadata": {},
     "output_type": "display_data"
    }
   ],
   "source": [
    "#check for duplicates in the column 'inspection_id'\n",
    "duplicate_inspection_id <- food_inspections$inspection_id[duplicated(food_inspections$inspection_id)]\n",
    "colnames(duplicate_inspection_id)"
   ]
  },
  {
   "cell_type": "markdown",
   "id": "e21d3811",
   "metadata": {
    "papermill": {
     "duration": 0.01554,
     "end_time": "2024-09-10T03:55:13.594282",
     "exception": false,
     "start_time": "2024-09-10T03:55:13.578742",
     "status": "completed"
    },
    "tags": []
   },
   "source": [
    "Since nothing was returned this indicates there are no duplicates listed. This can be further validated by making sure the number of unique observations in the inspection_id column match the total number of observations in the dataframe. This is done using the nrow() and n_distinct() functions. "
   ]
  },
  {
   "cell_type": "code",
   "execution_count": 6,
   "id": "fd552099",
   "metadata": {
    "execution": {
     "iopub.execute_input": "2024-09-10T03:55:13.630360Z",
     "iopub.status.busy": "2024-09-10T03:55:13.628559Z",
     "iopub.status.idle": "2024-09-10T03:55:13.669054Z",
     "shell.execute_reply": "2024-09-10T03:55:13.666276Z"
    },
    "papermill": {
     "duration": 0.063288,
     "end_time": "2024-09-10T03:55:13.673028",
     "exception": false,
     "start_time": "2024-09-10T03:55:13.609740",
     "status": "completed"
    },
    "tags": []
   },
   "outputs": [
    {
     "data": {
      "text/html": [
       "277961"
      ],
      "text/latex": [
       "277961"
      ],
      "text/markdown": [
       "277961"
      ],
      "text/plain": [
       "[1] 277961"
      ]
     },
     "metadata": {},
     "output_type": "display_data"
    },
    {
     "data": {
      "text/html": [
       "277961"
      ],
      "text/latex": [
       "277961"
      ],
      "text/markdown": [
       "277961"
      ],
      "text/plain": [
       "[1] 277961"
      ]
     },
     "metadata": {},
     "output_type": "display_data"
    }
   ],
   "source": [
    "#total observations using nrow \n",
    "nrow(food_inspections)\n",
    "\n",
    "#unique observations in column n_distinct\n",
    "n_distinct(food_inspections$inspection_id)"
   ]
  },
  {
   "cell_type": "markdown",
   "id": "57d0184a",
   "metadata": {
    "papermill": {
     "duration": 0.015595,
     "end_time": "2024-09-10T03:55:13.704056",
     "exception": false,
     "start_time": "2024-09-10T03:55:13.688461",
     "status": "completed"
    },
    "tags": []
   },
   "source": [
    "The outputs are both 277961, therefore this is the amount of inspections that are recorded from 01.04.2010 through 08.29.2024."
   ]
  },
  {
   "cell_type": "markdown",
   "id": "619b5d4a",
   "metadata": {
    "papermill": {
     "duration": 0.015282,
     "end_time": "2024-09-10T03:55:13.735177",
     "exception": false,
     "start_time": "2024-09-10T03:55:13.719895",
     "status": "completed"
    },
    "tags": []
   },
   "source": [
    "Next, the second dataframe, food_inspections_new, needs to be cleaned using the clean_names() function. "
   ]
  },
  {
   "cell_type": "code",
   "execution_count": 7,
   "id": "75460a4b",
   "metadata": {
    "execution": {
     "iopub.execute_input": "2024-09-10T03:55:13.769724Z",
     "iopub.status.busy": "2024-09-10T03:55:13.767955Z",
     "iopub.status.idle": "2024-09-10T03:55:13.813535Z",
     "shell.execute_reply": "2024-09-10T03:55:13.810706Z"
    },
    "papermill": {
     "duration": 0.066787,
     "end_time": "2024-09-10T03:55:13.817288",
     "exception": false,
     "start_time": "2024-09-10T03:55:13.750501",
     "status": "completed"
    },
    "tags": []
   },
   "outputs": [
    {
     "data": {
      "text/html": [
       "<style>\n",
       ".list-inline {list-style: none; margin:0; padding: 0}\n",
       ".list-inline>li {display: inline-block}\n",
       ".list-inline>li:not(:last-child)::after {content: \"\\00b7\"; padding: 0 .5ex}\n",
       "</style>\n",
       "<ol class=list-inline><li>'inspection_id'</li><li>'dba_name'</li><li>'aka_name'</li><li>'license'</li><li>'facility_type'</li><li>'risk'</li><li>'address'</li><li>'city'</li><li>'state'</li><li>'zip'</li><li>'inspection_date'</li><li>'inspection_type'</li><li>'results'</li><li>'violations'</li><li>'latitude'</li><li>'longitude'</li><li>'location'</li></ol>\n"
      ],
      "text/latex": [
       "\\begin{enumerate*}\n",
       "\\item 'inspection\\_id'\n",
       "\\item 'dba\\_name'\n",
       "\\item 'aka\\_name'\n",
       "\\item 'license'\n",
       "\\item 'facility\\_type'\n",
       "\\item 'risk'\n",
       "\\item 'address'\n",
       "\\item 'city'\n",
       "\\item 'state'\n",
       "\\item 'zip'\n",
       "\\item 'inspection\\_date'\n",
       "\\item 'inspection\\_type'\n",
       "\\item 'results'\n",
       "\\item 'violations'\n",
       "\\item 'latitude'\n",
       "\\item 'longitude'\n",
       "\\item 'location'\n",
       "\\end{enumerate*}\n"
      ],
      "text/markdown": [
       "1. 'inspection_id'\n",
       "2. 'dba_name'\n",
       "3. 'aka_name'\n",
       "4. 'license'\n",
       "5. 'facility_type'\n",
       "6. 'risk'\n",
       "7. 'address'\n",
       "8. 'city'\n",
       "9. 'state'\n",
       "10. 'zip'\n",
       "11. 'inspection_date'\n",
       "12. 'inspection_type'\n",
       "13. 'results'\n",
       "14. 'violations'\n",
       "15. 'latitude'\n",
       "16. 'longitude'\n",
       "17. 'location'\n",
       "\n",
       "\n"
      ],
      "text/plain": [
       " [1] \"inspection_id\"   \"dba_name\"        \"aka_name\"        \"license\"        \n",
       " [5] \"facility_type\"   \"risk\"            \"address\"         \"city\"           \n",
       " [9] \"state\"           \"zip\"             \"inspection_date\" \"inspection_type\"\n",
       "[13] \"results\"         \"violations\"      \"latitude\"        \"longitude\"      \n",
       "[17] \"location\"       "
      ]
     },
     "metadata": {},
     "output_type": "display_data"
    }
   ],
   "source": [
    "#clean column names\n",
    "food_inspections_new <- clean_names(food_inspections_new)\n",
    "#view cleaned column names\n",
    "colnames(food_inspections_new)"
   ]
  },
  {
   "cell_type": "markdown",
   "id": "fe597b98",
   "metadata": {
    "papermill": {
     "duration": 0.016153,
     "end_time": "2024-09-10T03:55:13.849137",
     "exception": false,
     "start_time": "2024-09-10T03:55:13.832984",
     "status": "completed"
    },
    "tags": []
   },
   "source": [
    "Now the dataframe, food_inspections_new, needs to be verified as only having dates from after 07.01.2018. This is done by getting the min and max of the dates inspection_date column. "
   ]
  },
  {
   "cell_type": "code",
   "execution_count": 8,
   "id": "99fe30b4",
   "metadata": {
    "execution": {
     "iopub.execute_input": "2024-09-10T03:55:13.885434Z",
     "iopub.status.busy": "2024-09-10T03:55:13.883600Z",
     "iopub.status.idle": "2024-09-10T03:55:13.914545Z",
     "shell.execute_reply": "2024-09-10T03:55:13.911965Z"
    },
    "papermill": {
     "duration": 0.052365,
     "end_time": "2024-09-10T03:55:13.917696",
     "exception": false,
     "start_time": "2024-09-10T03:55:13.865331",
     "status": "completed"
    },
    "tags": []
   },
   "outputs": [
    {
     "data": {
      "text/html": [
       "<time datetime=\"2018-07-03\">2018-07-03</time>"
      ],
      "text/latex": [
       "2018-07-03"
      ],
      "text/markdown": [
       "2018-07-03"
      ],
      "text/plain": [
       "[1] \"2018-07-03\""
      ]
     },
     "metadata": {},
     "output_type": "display_data"
    },
    {
     "data": {
      "text/html": [
       "<time datetime=\"2024-08-29\">2024-08-29</time>"
      ],
      "text/latex": [
       "2024-08-29"
      ],
      "text/markdown": [
       "2024-08-29"
      ],
      "text/plain": [
       "[1] \"2024-08-29\""
      ]
     },
     "metadata": {},
     "output_type": "display_data"
    }
   ],
   "source": [
    "#return the oldest date\n",
    "min(food_inspections_new$inspection_date, na.rm = TRUE)\n",
    "\n",
    "#return the newest date\n",
    "max(food_inspections_new$inspection_date, na.rm = TRUE)"
   ]
  },
  {
   "cell_type": "markdown",
   "id": "2da1a198",
   "metadata": {
    "papermill": {
     "duration": 0.016756,
     "end_time": "2024-09-10T03:55:13.950586",
     "exception": false,
     "start_time": "2024-09-10T03:55:13.933830",
     "status": "completed"
    },
    "tags": []
   },
   "source": [
    "The returned dates are 07.03.2018 and 08.29.2024 verifying that the dataframe food_inspections_new only includes data from after the date specified. "
   ]
  },
  {
   "cell_type": "markdown",
   "id": "30aa9cfe",
   "metadata": {
    "papermill": {
     "duration": 0.017154,
     "end_time": "2024-09-10T03:55:13.983961",
     "exception": false,
     "start_time": "2024-09-10T03:55:13.966807",
     "status": "completed"
    },
    "tags": []
   },
   "source": [
    "## 4. Analyze\n",
    "The data will be analyzed to reveal some important statistics.\n",
    "\n",
    "#### How many inspections are listed for this dataset?\n",
    "When using nrow() the output given was 277961 total inspections from 01.04.2010 to 08.29.2024. For the data in the second dataframe the output using nrow() is 105083 total inspections from 07.03.2018 to 08.29.2024."
   ]
  },
  {
   "cell_type": "code",
   "execution_count": 9,
   "id": "716f8a42",
   "metadata": {
    "execution": {
     "iopub.execute_input": "2024-09-10T03:55:14.021394Z",
     "iopub.status.busy": "2024-09-10T03:55:14.019550Z",
     "iopub.status.idle": "2024-09-10T03:55:14.042064Z",
     "shell.execute_reply": "2024-09-10T03:55:14.039056Z"
    },
    "papermill": {
     "duration": 0.04586,
     "end_time": "2024-09-10T03:55:14.046223",
     "exception": false,
     "start_time": "2024-09-10T03:55:14.000363",
     "status": "completed"
    },
    "tags": []
   },
   "outputs": [
    {
     "data": {
      "text/html": [
       "105083"
      ],
      "text/latex": [
       "105083"
      ],
      "text/markdown": [
       "105083"
      ],
      "text/plain": [
       "[1] 105083"
      ]
     },
     "metadata": {},
     "output_type": "display_data"
    }
   ],
   "source": [
    "#unique observations to find out how many inspections were done\n",
    "nrow(food_inspections_new)"
   ]
  },
  {
   "cell_type": "markdown",
   "id": "22c39560",
   "metadata": {
    "papermill": {
     "duration": 0.016231,
     "end_time": "2024-09-10T03:55:14.078923",
     "exception": false,
     "start_time": "2024-09-10T03:55:14.062692",
     "status": "completed"
    },
    "tags": []
   },
   "source": [
    "#### How many food establishments were visited?\n",
    "In order to determine how many food establishments were visited we must first take into consideration that some places investigated will have the same business name and others may be located in the same building. Therefore, to find out this information there will need to be a unique identifier column created into the dataframes. This is done using paste0() to copy values from the \"dba_name\" column and the \"location\" column into a new column named \"identifier\". \n"
   ]
  },
  {
   "cell_type": "code",
   "execution_count": 10,
   "id": "b3754bd9",
   "metadata": {
    "collapsed": true,
    "execution": {
     "iopub.execute_input": "2024-09-10T03:55:14.117491Z",
     "iopub.status.busy": "2024-09-10T03:55:14.115597Z",
     "iopub.status.idle": "2024-09-10T03:55:14.376338Z",
     "shell.execute_reply": "2024-09-10T03:55:14.373517Z"
    },
    "jupyter": {
     "outputs_hidden": true
    },
    "papermill": {
     "duration": 0.284064,
     "end_time": "2024-09-10T03:55:14.379868",
     "exception": false,
     "start_time": "2024-09-10T03:55:14.095804",
     "status": "completed"
    },
    "tags": []
   },
   "outputs": [
    {
     "data": {
      "text/html": [
       "<style>\n",
       ".list-inline {list-style: none; margin:0; padding: 0}\n",
       ".list-inline>li {display: inline-block}\n",
       ".list-inline>li:not(:last-child)::after {content: \"\\00b7\"; padding: 0 .5ex}\n",
       "</style>\n",
       "<ol class=list-inline><li>'inspection_id'</li><li>'dba_name'</li><li>'aka_name'</li><li>'license'</li><li>'facility_type'</li><li>'risk'</li><li>'address'</li><li>'city'</li><li>'state'</li><li>'zip'</li><li>'inspection_date'</li><li>'inspection_type'</li><li>'results'</li><li>'violations'</li><li>'latitude'</li><li>'longitude'</li><li>'location'</li><li>'identifier'</li></ol>\n"
      ],
      "text/latex": [
       "\\begin{enumerate*}\n",
       "\\item 'inspection\\_id'\n",
       "\\item 'dba\\_name'\n",
       "\\item 'aka\\_name'\n",
       "\\item 'license'\n",
       "\\item 'facility\\_type'\n",
       "\\item 'risk'\n",
       "\\item 'address'\n",
       "\\item 'city'\n",
       "\\item 'state'\n",
       "\\item 'zip'\n",
       "\\item 'inspection\\_date'\n",
       "\\item 'inspection\\_type'\n",
       "\\item 'results'\n",
       "\\item 'violations'\n",
       "\\item 'latitude'\n",
       "\\item 'longitude'\n",
       "\\item 'location'\n",
       "\\item 'identifier'\n",
       "\\end{enumerate*}\n"
      ],
      "text/markdown": [
       "1. 'inspection_id'\n",
       "2. 'dba_name'\n",
       "3. 'aka_name'\n",
       "4. 'license'\n",
       "5. 'facility_type'\n",
       "6. 'risk'\n",
       "7. 'address'\n",
       "8. 'city'\n",
       "9. 'state'\n",
       "10. 'zip'\n",
       "11. 'inspection_date'\n",
       "12. 'inspection_type'\n",
       "13. 'results'\n",
       "14. 'violations'\n",
       "15. 'latitude'\n",
       "16. 'longitude'\n",
       "17. 'location'\n",
       "18. 'identifier'\n",
       "\n",
       "\n"
      ],
      "text/plain": [
       " [1] \"inspection_id\"   \"dba_name\"        \"aka_name\"        \"license\"        \n",
       " [5] \"facility_type\"   \"risk\"            \"address\"         \"city\"           \n",
       " [9] \"state\"           \"zip\"             \"inspection_date\" \"inspection_type\"\n",
       "[13] \"results\"         \"violations\"      \"latitude\"        \"longitude\"      \n",
       "[17] \"location\"        \"identifier\"     "
      ]
     },
     "metadata": {},
     "output_type": "display_data"
    },
    {
     "name": "stdout",
     "output_type": "stream",
     "text": [
      "Rows: 277,961\n",
      "Columns: 18\n",
      "$ inspection_id   \u001b[3m\u001b[90m<int>\u001b[39m\u001b[23m 2601895, 2600874, 2600871, 2600845, 2600840, 2600796, …\n",
      "$ dba_name        \u001b[3m\u001b[90m<chr>\u001b[39m\u001b[23m \"PINCHED\", \"J'S DELI GROCERY & GRILL, INC.\", \"WEST END…\n",
      "$ aka_name        \u001b[3m\u001b[90m<chr>\u001b[39m\u001b[23m \"PINCHED\", \"J'S DELI GROCERY & GRILL\", \"WEST END TATA'…\n",
      "$ license         \u001b[3m\u001b[90m<int>\u001b[39m\u001b[23m 2615889, 2694034, 1948046, 2791335, 2929007, 2957208, …\n",
      "$ facility_type   \u001b[3m\u001b[90m<chr>\u001b[39m\u001b[23m \"Restaurant\", \"\", \"Restaurant\", \"Restaurant\", \"Restaur…\n",
      "$ risk            \u001b[3m\u001b[90m<chr>\u001b[39m\u001b[23m \"Risk 1 (High)\", \"Risk 2 (Medium)\", \"Risk 1 (High)\", \"…\n",
      "$ address         \u001b[3m\u001b[90m<chr>\u001b[39m\u001b[23m \"443 E ILLINOIS ST \", \"51 E 51ST ST \", \"3019 W 111TH S…\n",
      "$ city            \u001b[3m\u001b[90m<chr>\u001b[39m\u001b[23m \"CHICAGO\", \"CHICAGO\", \"CHICAGO\", \"CHICAGO\", \"CHICAGO\",…\n",
      "$ state           \u001b[3m\u001b[90m<chr>\u001b[39m\u001b[23m \"IL\", \"IL\", \"IL\", \"IL\", \"IL\", \"IL\", \"IL\", \"IL\", \"IL\", …\n",
      "$ zip             \u001b[3m\u001b[90m<int>\u001b[39m\u001b[23m 60611, 60615, 60655, 60628, 60652, 60611, 60657, 60617…\n",
      "$ inspection_date \u001b[3m\u001b[90m<date>\u001b[39m\u001b[23m 2024-08-29, 2024-08-28, 2024-08-28, 2024-08-28, 2024-…\n",
      "$ inspection_type \u001b[3m\u001b[90m<chr>\u001b[39m\u001b[23m \"Canvass Re-Inspection\", \"Canvass\", \"Non-Inspection\", …\n",
      "$ results         \u001b[3m\u001b[90m<chr>\u001b[39m\u001b[23m \"Pass\", \"Out of Business\", \"No Entry\", \"Out of Busines…\n",
      "$ violations      \u001b[3m\u001b[90m<chr>\u001b[39m\u001b[23m \"47. FOOD & NON-FOOD CONTACT SURFACES CLEANABLE, PROPE…\n",
      "$ latitude        \u001b[3m\u001b[90m<dbl>\u001b[39m\u001b[23m 41.89097, 41.80187, 41.69150, 41.72151, 41.74982, 41.8…\n",
      "$ longitude       \u001b[3m\u001b[90m<dbl>\u001b[39m\u001b[23m -87.61607, -87.62391, -87.69695, -87.63181, -87.69024,…\n",
      "$ location        \u001b[3m\u001b[90m<chr>\u001b[39m\u001b[23m \"(41.89097092907943, -87.61606705402203)\", \"(41.801868…\n",
      "$ identifier      \u001b[3m\u001b[90m<chr>\u001b[39m\u001b[23m \"PINCHED(41.89097092907943, -87.61606705402203)\", \"J'S…\n"
     ]
    }
   ],
   "source": [
    "#paste together two columns into a new one\n",
    "food_inspections$identifier <- paste0(food_inspections$dba_name, food_inspections$location)\n",
    "#check column names\n",
    "colnames(food_inspections)\n",
    "#glimpse the data\n",
    "glimpse(food_inspections)"
   ]
  },
  {
   "cell_type": "code",
   "execution_count": 11,
   "id": "9f7771bc",
   "metadata": {
    "collapsed": true,
    "execution": {
     "iopub.execute_input": "2024-09-10T03:55:14.457243Z",
     "iopub.status.busy": "2024-09-10T03:55:14.455384Z",
     "iopub.status.idle": "2024-09-10T03:55:14.573555Z",
     "shell.execute_reply": "2024-09-10T03:55:14.570548Z"
    },
    "jupyter": {
     "outputs_hidden": true
    },
    "papermill": {
     "duration": 0.180359,
     "end_time": "2024-09-10T03:55:14.577546",
     "exception": false,
     "start_time": "2024-09-10T03:55:14.397187",
     "status": "completed"
    },
    "tags": []
   },
   "outputs": [
    {
     "data": {
      "text/html": [
       "<style>\n",
       ".list-inline {list-style: none; margin:0; padding: 0}\n",
       ".list-inline>li {display: inline-block}\n",
       ".list-inline>li:not(:last-child)::after {content: \"\\00b7\"; padding: 0 .5ex}\n",
       "</style>\n",
       "<ol class=list-inline><li>'inspection_id'</li><li>'dba_name'</li><li>'aka_name'</li><li>'license'</li><li>'facility_type'</li><li>'risk'</li><li>'address'</li><li>'city'</li><li>'state'</li><li>'zip'</li><li>'inspection_date'</li><li>'inspection_type'</li><li>'results'</li><li>'violations'</li><li>'latitude'</li><li>'longitude'</li><li>'location'</li><li>'identifier'</li></ol>\n"
      ],
      "text/latex": [
       "\\begin{enumerate*}\n",
       "\\item 'inspection\\_id'\n",
       "\\item 'dba\\_name'\n",
       "\\item 'aka\\_name'\n",
       "\\item 'license'\n",
       "\\item 'facility\\_type'\n",
       "\\item 'risk'\n",
       "\\item 'address'\n",
       "\\item 'city'\n",
       "\\item 'state'\n",
       "\\item 'zip'\n",
       "\\item 'inspection\\_date'\n",
       "\\item 'inspection\\_type'\n",
       "\\item 'results'\n",
       "\\item 'violations'\n",
       "\\item 'latitude'\n",
       "\\item 'longitude'\n",
       "\\item 'location'\n",
       "\\item 'identifier'\n",
       "\\end{enumerate*}\n"
      ],
      "text/markdown": [
       "1. 'inspection_id'\n",
       "2. 'dba_name'\n",
       "3. 'aka_name'\n",
       "4. 'license'\n",
       "5. 'facility_type'\n",
       "6. 'risk'\n",
       "7. 'address'\n",
       "8. 'city'\n",
       "9. 'state'\n",
       "10. 'zip'\n",
       "11. 'inspection_date'\n",
       "12. 'inspection_type'\n",
       "13. 'results'\n",
       "14. 'violations'\n",
       "15. 'latitude'\n",
       "16. 'longitude'\n",
       "17. 'location'\n",
       "18. 'identifier'\n",
       "\n",
       "\n"
      ],
      "text/plain": [
       " [1] \"inspection_id\"   \"dba_name\"        \"aka_name\"        \"license\"        \n",
       " [5] \"facility_type\"   \"risk\"            \"address\"         \"city\"           \n",
       " [9] \"state\"           \"zip\"             \"inspection_date\" \"inspection_type\"\n",
       "[13] \"results\"         \"violations\"      \"latitude\"        \"longitude\"      \n",
       "[17] \"location\"        \"identifier\"     "
      ]
     },
     "metadata": {},
     "output_type": "display_data"
    },
    {
     "name": "stdout",
     "output_type": "stream",
     "text": [
      "Rows: 105,083\n",
      "Columns: 18\n",
      "$ inspection_id   \u001b[3m\u001b[90m<int>\u001b[39m\u001b[23m 2601895, 2600874, 2600871, 2600845, 2600840, 2600796, …\n",
      "$ dba_name        \u001b[3m\u001b[90m<chr>\u001b[39m\u001b[23m \"PINCHED\", \"J'S DELI GROCERY & GRILL, INC.\", \"WEST END…\n",
      "$ aka_name        \u001b[3m\u001b[90m<chr>\u001b[39m\u001b[23m \"PINCHED\", \"J'S DELI GROCERY & GRILL\", \"WEST END TATA'…\n",
      "$ license         \u001b[3m\u001b[90m<int>\u001b[39m\u001b[23m 2615889, 2694034, 1948046, 2791335, 2929007, 2957208, …\n",
      "$ facility_type   \u001b[3m\u001b[90m<chr>\u001b[39m\u001b[23m \"Restaurant\", \"\", \"Restaurant\", \"Restaurant\", \"Restaur…\n",
      "$ risk            \u001b[3m\u001b[90m<chr>\u001b[39m\u001b[23m \"Risk 1 (High)\", \"Risk 2 (Medium)\", \"Risk 1 (High)\", \"…\n",
      "$ address         \u001b[3m\u001b[90m<chr>\u001b[39m\u001b[23m \"443 E ILLINOIS ST \", \"51 E 51ST ST \", \"3019 W 111TH S…\n",
      "$ city            \u001b[3m\u001b[90m<chr>\u001b[39m\u001b[23m \"CHICAGO\", \"CHICAGO\", \"CHICAGO\", \"CHICAGO\", \"CHICAGO\",…\n",
      "$ state           \u001b[3m\u001b[90m<chr>\u001b[39m\u001b[23m \"IL\", \"IL\", \"IL\", \"IL\", \"IL\", \"IL\", \"IL\", \"IL\", \"IL\", …\n",
      "$ zip             \u001b[3m\u001b[90m<int>\u001b[39m\u001b[23m 60611, 60615, 60655, 60628, 60652, 60611, 60657, 60617…\n",
      "$ inspection_date \u001b[3m\u001b[90m<date>\u001b[39m\u001b[23m 2024-08-29, 2024-08-28, 2024-08-28, 2024-08-28, 2024-…\n",
      "$ inspection_type \u001b[3m\u001b[90m<chr>\u001b[39m\u001b[23m \"Canvass Re-Inspection\", \"Canvass\", \"Non-Inspection\", …\n",
      "$ results         \u001b[3m\u001b[90m<chr>\u001b[39m\u001b[23m \"Pass\", \"Out of Business\", \"No Entry\", \"Out of Busines…\n",
      "$ violations      \u001b[3m\u001b[90m<chr>\u001b[39m\u001b[23m \"47. FOOD & NON-FOOD CONTACT SURFACES CLEANABLE, PROPE…\n",
      "$ latitude        \u001b[3m\u001b[90m<dbl>\u001b[39m\u001b[23m 41.89097, 41.80187, 41.69150, 41.72151, 41.74982, 41.8…\n",
      "$ longitude       \u001b[3m\u001b[90m<dbl>\u001b[39m\u001b[23m -87.61607, -87.62391, -87.69695, -87.63181, -87.69024,…\n",
      "$ location        \u001b[3m\u001b[90m<chr>\u001b[39m\u001b[23m \"(41.89097092907943, -87.61606705402203)\", \"(41.801868…\n",
      "$ identifier      \u001b[3m\u001b[90m<chr>\u001b[39m\u001b[23m \"PINCHED(41.89097092907943, -87.61606705402203)\", \"J'S…\n"
     ]
    }
   ],
   "source": [
    "#paste together two columns into a new one\n",
    "food_inspections_new$identifier <- paste0(food_inspections_new$dba_name, food_inspections_new$location)\n",
    "#check column names\n",
    "colnames(food_inspections_new)\n",
    "#glimpse the data\n",
    "glimpse(food_inspections_new)"
   ]
  },
  {
   "cell_type": "markdown",
   "id": "e5836f93",
   "metadata": {
    "papermill": {
     "duration": 0.018209,
     "end_time": "2024-09-10T03:55:14.614021",
     "exception": false,
     "start_time": "2024-09-10T03:55:14.595812",
     "status": "completed"
    },
    "tags": []
   },
   "source": [
    "Using n_distinct() for the identifier column the amount of food establishments can be found."
   ]
  },
  {
   "cell_type": "code",
   "execution_count": 12,
   "id": "cb3d4c9a",
   "metadata": {
    "execution": {
     "iopub.execute_input": "2024-09-10T03:55:14.653763Z",
     "iopub.status.busy": "2024-09-10T03:55:14.651866Z",
     "iopub.status.idle": "2024-09-10T03:55:14.791332Z",
     "shell.execute_reply": "2024-09-10T03:55:14.789388Z"
    },
    "papermill": {
     "duration": 0.161995,
     "end_time": "2024-09-10T03:55:14.794341",
     "exception": false,
     "start_time": "2024-09-10T03:55:14.632346",
     "status": "completed"
    },
    "tags": []
   },
   "outputs": [
    {
     "data": {
      "text/html": [
       "37758"
      ],
      "text/latex": [
       "37758"
      ],
      "text/markdown": [
       "37758"
      ],
      "text/plain": [
       "[1] 37758"
      ]
     },
     "metadata": {},
     "output_type": "display_data"
    },
    {
     "data": {
      "text/html": [
       "21156"
      ],
      "text/latex": [
       "21156"
      ],
      "text/markdown": [
       "21156"
      ],
      "text/plain": [
       "[1] 21156"
      ]
     },
     "metadata": {},
     "output_type": "display_data"
    }
   ],
   "source": [
    "#unique observations in column\n",
    "#for 2010 to 2024\n",
    "n_distinct(food_inspections$identifier)\n",
    "#for 2018 to 2024\n",
    "n_distinct(food_inspections_new$identifier)"
   ]
  },
  {
   "cell_type": "markdown",
   "id": "faf61046",
   "metadata": {
    "papermill": {
     "duration": 0.018736,
     "end_time": "2024-09-10T03:55:14.831837",
     "exception": false,
     "start_time": "2024-09-10T03:55:14.813101",
     "status": "completed"
    },
    "tags": []
   },
   "source": [
    "From this it is determined that there were 37758 food establishments inspected from 01.04.2010 to 08.29.2024, and 21156 food establishments from 07.03.2018 to 08.29.2024."
   ]
  },
  {
   "cell_type": "markdown",
   "id": "812a11f6",
   "metadata": {
    "papermill": {
     "duration": 0.022256,
     "end_time": "2024-09-10T03:55:14.873711",
     "exception": false,
     "start_time": "2024-09-10T03:55:14.851455",
     "status": "completed"
    },
    "tags": []
   },
   "source": [
    "#### What are the percentages of risk types based on inspections (2010 to 2024)?\n",
    "The risk types are an indicator as to how often inspections will take place with risk 1 being the highest, and risk 3 being the lowest. The percentages of each type of risk in relation to the number of inspections can be determined  using a summary table.\n"
   ]
  },
  {
   "cell_type": "code",
   "execution_count": 13,
   "id": "8d14a6e5",
   "metadata": {
    "execution": {
     "iopub.execute_input": "2024-09-10T03:55:14.923112Z",
     "iopub.status.busy": "2024-09-10T03:55:14.921212Z",
     "iopub.status.idle": "2024-09-10T03:55:14.983975Z",
     "shell.execute_reply": "2024-09-10T03:55:14.981809Z"
    },
    "papermill": {
     "duration": 0.092237,
     "end_time": "2024-09-10T03:55:14.987852",
     "exception": false,
     "start_time": "2024-09-10T03:55:14.895615",
     "status": "completed"
    },
    "tags": []
   },
   "outputs": [
    {
     "data": {
      "text/html": [
       "<table class=\"dataframe\">\n",
       "<caption>A tibble: 5 × 2</caption>\n",
       "<thead>\n",
       "\t<tr><th scope=col>risk</th><th scope=col>percent</th></tr>\n",
       "\t<tr><th scope=col>&lt;chr&gt;</th><th scope=col>&lt;dbl&gt;</th></tr>\n",
       "</thead>\n",
       "<tbody>\n",
       "\t<tr><td>               </td><td> 0.02986030</td></tr>\n",
       "\t<tr><td>All            </td><td> 0.01978695</td></tr>\n",
       "\t<tr><td>Risk 1 (High)  </td><td>73.63802836</td></tr>\n",
       "\t<tr><td>Risk 2 (Medium)</td><td>18.21514529</td></tr>\n",
       "\t<tr><td>Risk 3 (Low)   </td><td> 8.09717910</td></tr>\n",
       "</tbody>\n",
       "</table>\n"
      ],
      "text/latex": [
       "A tibble: 5 × 2\n",
       "\\begin{tabular}{ll}\n",
       " risk & percent\\\\\n",
       " <chr> & <dbl>\\\\\n",
       "\\hline\n",
       "\t                 &  0.02986030\\\\\n",
       "\t All             &  0.01978695\\\\\n",
       "\t Risk 1 (High)   & 73.63802836\\\\\n",
       "\t Risk 2 (Medium) & 18.21514529\\\\\n",
       "\t Risk 3 (Low)    &  8.09717910\\\\\n",
       "\\end{tabular}\n"
      ],
      "text/markdown": [
       "\n",
       "A tibble: 5 × 2\n",
       "\n",
       "| risk &lt;chr&gt; | percent &lt;dbl&gt; |\n",
       "|---|---|\n",
       "| <!----> |  0.02986030 |\n",
       "| All             |  0.01978695 |\n",
       "| Risk 1 (High)   | 73.63802836 |\n",
       "| Risk 2 (Medium) | 18.21514529 |\n",
       "| Risk 3 (Low)    |  8.09717910 |\n",
       "\n"
      ],
      "text/plain": [
       "  risk            percent    \n",
       "1                  0.02986030\n",
       "2 All              0.01978695\n",
       "3 Risk 1 (High)   73.63802836\n",
       "4 Risk 2 (Medium) 18.21514529\n",
       "5 Risk 3 (Low)     8.09717910"
      ]
     },
     "metadata": {},
     "output_type": "display_data"
    }
   ],
   "source": [
    "#create a summary table to determine percentage of risk types\n",
    "food_inspections %>%\n",
    "    group_by(risk) %>%\n",
    "    summarize(percent = 100 * n()/nrow(food_inspections))"
   ]
  },
  {
   "cell_type": "markdown",
   "id": "1e6ec18b",
   "metadata": {
    "papermill": {
     "duration": 0.019475,
     "end_time": "2024-09-10T03:55:15.030314",
     "exception": false,
     "start_time": "2024-09-10T03:55:15.010839",
     "status": "completed"
    },
    "tags": []
   },
   "source": [
    "Of all the inspections 73.64% were Risk 1 (High), 18.22% were Risk 2 (Medium), and 8.10% were risk 3 (Low)."
   ]
  },
  {
   "cell_type": "markdown",
   "id": "27029dbe",
   "metadata": {
    "papermill": {
     "duration": 0.018561,
     "end_time": "2024-09-10T03:55:15.067856",
     "exception": false,
     "start_time": "2024-09-10T03:55:15.049295",
     "status": "completed"
    },
    "tags": []
   },
   "source": [
    "#### What are the percentages of inspection results (2010-2024)?\n",
    "To determine the percentages of the results recorded another summary table can be created."
   ]
  },
  {
   "cell_type": "code",
   "execution_count": 14,
   "id": "e6f9ea9b",
   "metadata": {
    "execution": {
     "iopub.execute_input": "2024-09-10T03:55:15.113345Z",
     "iopub.status.busy": "2024-09-10T03:55:15.110582Z",
     "iopub.status.idle": "2024-09-10T03:55:15.167669Z",
     "shell.execute_reply": "2024-09-10T03:55:15.163567Z"
    },
    "papermill": {
     "duration": 0.087446,
     "end_time": "2024-09-10T03:55:15.174019",
     "exception": false,
     "start_time": "2024-09-10T03:55:15.086573",
     "status": "completed"
    },
    "tags": []
   },
   "outputs": [
    {
     "data": {
      "text/html": [
       "<table class=\"dataframe\">\n",
       "<caption>A tibble: 7 × 2</caption>\n",
       "<thead>\n",
       "\t<tr><th scope=col>results</th><th scope=col>percent</th></tr>\n",
       "\t<tr><th scope=col>&lt;chr&gt;</th><th scope=col>&lt;dbl&gt;</th></tr>\n",
       "</thead>\n",
       "<tbody>\n",
       "\t<tr><td>Business Not Located</td><td> 0.03201888</td></tr>\n",
       "\t<tr><td>Fail                </td><td>19.51424840</td></tr>\n",
       "\t<tr><td>No Entry            </td><td> 4.08942262</td></tr>\n",
       "\t<tr><td>Not Ready           </td><td> 1.29766406</td></tr>\n",
       "\t<tr><td>Out of Business     </td><td> 8.37707448</td></tr>\n",
       "\t<tr><td>Pass                </td><td>51.48024363</td></tr>\n",
       "\t<tr><td>Pass w/ Conditions  </td><td>15.20932793</td></tr>\n",
       "</tbody>\n",
       "</table>\n"
      ],
      "text/latex": [
       "A tibble: 7 × 2\n",
       "\\begin{tabular}{ll}\n",
       " results & percent\\\\\n",
       " <chr> & <dbl>\\\\\n",
       "\\hline\n",
       "\t Business Not Located &  0.03201888\\\\\n",
       "\t Fail                 & 19.51424840\\\\\n",
       "\t No Entry             &  4.08942262\\\\\n",
       "\t Not Ready            &  1.29766406\\\\\n",
       "\t Out of Business      &  8.37707448\\\\\n",
       "\t Pass                 & 51.48024363\\\\\n",
       "\t Pass w/ Conditions   & 15.20932793\\\\\n",
       "\\end{tabular}\n"
      ],
      "text/markdown": [
       "\n",
       "A tibble: 7 × 2\n",
       "\n",
       "| results &lt;chr&gt; | percent &lt;dbl&gt; |\n",
       "|---|---|\n",
       "| Business Not Located |  0.03201888 |\n",
       "| Fail                 | 19.51424840 |\n",
       "| No Entry             |  4.08942262 |\n",
       "| Not Ready            |  1.29766406 |\n",
       "| Out of Business      |  8.37707448 |\n",
       "| Pass                 | 51.48024363 |\n",
       "| Pass w/ Conditions   | 15.20932793 |\n",
       "\n"
      ],
      "text/plain": [
       "  results              percent    \n",
       "1 Business Not Located  0.03201888\n",
       "2 Fail                 19.51424840\n",
       "3 No Entry              4.08942262\n",
       "4 Not Ready             1.29766406\n",
       "5 Out of Business       8.37707448\n",
       "6 Pass                 51.48024363\n",
       "7 Pass w/ Conditions   15.20932793"
      ]
     },
     "metadata": {},
     "output_type": "display_data"
    }
   ],
   "source": [
    "#create a summary table to determine percents of results\n",
    "food_inspections %>%\n",
    "    group_by(results) %>%\n",
    "    summarize(percent = 100 * n()/nrow(food_inspections))"
   ]
  },
  {
   "cell_type": "markdown",
   "id": "cc83dc2b",
   "metadata": {
    "papermill": {
     "duration": 0.026189,
     "end_time": "2024-09-10T03:55:15.226535",
     "exception": false,
     "start_time": "2024-09-10T03:55:15.200346",
     "status": "completed"
    },
    "tags": []
   },
   "source": [
    "Of the inspections recorded 51.48% passed, 15.21% passed with conditions, 19.51% failed, 4.09% were not allowed entry, 8.38% were out of business, and 0.03% were not located. "
   ]
  },
  {
   "cell_type": "markdown",
   "id": "e8db1673",
   "metadata": {
    "papermill": {
     "duration": 0.019511,
     "end_time": "2024-09-10T03:55:15.270208",
     "exception": false,
     "start_time": "2024-09-10T03:55:15.250697",
     "status": "completed"
    },
    "tags": []
   },
   "source": [
    "#### Which area of Chicago has the most amount of inspections (2010-2024)?\n",
    "In order to determine which zip code in Chicago has the most amount of inspections first a summary dataframe needs to be created of the counts of inspections per zip code. From this a maximum can be returned."
   ]
  },
  {
   "cell_type": "code",
   "execution_count": 15,
   "id": "259fb6cb",
   "metadata": {
    "execution": {
     "iopub.execute_input": "2024-09-10T03:55:15.316269Z",
     "iopub.status.busy": "2024-09-10T03:55:15.313291Z",
     "iopub.status.idle": "2024-09-10T03:55:15.362824Z",
     "shell.execute_reply": "2024-09-10T03:55:15.359497Z"
    },
    "papermill": {
     "duration": 0.075607,
     "end_time": "2024-09-10T03:55:15.366408",
     "exception": false,
     "start_time": "2024-09-10T03:55:15.290801",
     "status": "completed"
    },
    "tags": []
   },
   "outputs": [
    {
     "name": "stdout",
     "output_type": "stream",
     "text": [
      "    zip     n\n",
      "1 60614 10316\n"
     ]
    }
   ],
   "source": [
    "#create a summary count of zip codes\n",
    "zipsummary <- food_inspections %>%\n",
    "    count(zip)\n",
    "#return the zip code with max amount of inspections\n",
    "max_zip <- zipsummary %>%\n",
    "    filter(n == max(n))\n",
    "#print results\n",
    "print(max_zip)"
   ]
  },
  {
   "cell_type": "markdown",
   "id": "e0b7a380",
   "metadata": {
    "papermill": {
     "duration": 0.024005,
     "end_time": "2024-09-10T03:55:15.414208",
     "exception": false,
     "start_time": "2024-09-10T03:55:15.390203",
     "status": "completed"
    },
    "tags": []
   },
   "source": [
    "The zip code with the most inspections is 60614 with 10316 inspections recorded. "
   ]
  },
  {
   "cell_type": "markdown",
   "id": "d33df870",
   "metadata": {
    "papermill": {
     "duration": 0.021622,
     "end_time": "2024-09-10T03:55:15.460241",
     "exception": false,
     "start_time": "2024-09-10T03:55:15.438619",
     "status": "completed"
    },
    "tags": []
   },
   "source": [
    "#### Which violations are most common (2018-2024)?\n",
    "To analyze violations the dataframe \"food_inspections_new\" that includes data from 2018 to 2024 will be analyzed based on the new violations set forth by the City of Chicago in 2018. Since all the data on violations are in one column called \"violations\", new columns indicating each violation type (1-63 which can be found [here](https://www.chicago.gov/city/en/depts/cdph/provdrs/food_safety/svcs/understand_healthcoderequirementsforfoodestablishments.html)) will be created. If the violation is indicated it will be counted in the corresponding column."
   ]
  },
  {
   "cell_type": "code",
   "execution_count": 16,
   "id": "c1f6ee9d",
   "metadata": {
    "execution": {
     "iopub.execute_input": "2024-09-10T03:55:15.505604Z",
     "iopub.status.busy": "2024-09-10T03:55:15.502533Z",
     "iopub.status.idle": "2024-09-10T03:55:48.306670Z",
     "shell.execute_reply": "2024-09-10T03:55:48.303504Z"
    },
    "papermill": {
     "duration": 32.849458,
     "end_time": "2024-09-10T03:55:48.329085",
     "exception": false,
     "start_time": "2024-09-10T03:55:15.479627",
     "status": "completed"
    },
    "tags": []
   },
   "outputs": [
    {
     "data": {
      "text/html": [
       "<table class=\"dataframe\">\n",
       "<caption>A data.frame: 6 × 81</caption>\n",
       "<thead>\n",
       "\t<tr><th></th><th scope=col>inspection_id</th><th scope=col>dba_name</th><th scope=col>aka_name</th><th scope=col>license</th><th scope=col>facility_type</th><th scope=col>risk</th><th scope=col>address</th><th scope=col>city</th><th scope=col>state</th><th scope=col>zip</th><th scope=col>⋯</th><th scope=col>54</th><th scope=col>55</th><th scope=col>56</th><th scope=col>57</th><th scope=col>58</th><th scope=col>59</th><th scope=col>60</th><th scope=col>61</th><th scope=col>62</th><th scope=col>63</th></tr>\n",
       "\t<tr><th></th><th scope=col>&lt;int&gt;</th><th scope=col>&lt;chr&gt;</th><th scope=col>&lt;chr&gt;</th><th scope=col>&lt;int&gt;</th><th scope=col>&lt;chr&gt;</th><th scope=col>&lt;chr&gt;</th><th scope=col>&lt;chr&gt;</th><th scope=col>&lt;chr&gt;</th><th scope=col>&lt;chr&gt;</th><th scope=col>&lt;int&gt;</th><th scope=col>⋯</th><th scope=col>&lt;int&gt;</th><th scope=col>&lt;int&gt;</th><th scope=col>&lt;int&gt;</th><th scope=col>&lt;int&gt;</th><th scope=col>&lt;int&gt;</th><th scope=col>&lt;int&gt;</th><th scope=col>&lt;int&gt;</th><th scope=col>&lt;int&gt;</th><th scope=col>&lt;int&gt;</th><th scope=col>&lt;int&gt;</th></tr>\n",
       "</thead>\n",
       "<tbody>\n",
       "\t<tr><th scope=row>1</th><td>2601895</td><td>PINCHED                             </td><td>PINCHED                        </td><td>2615889</td><td>Restaurant</td><td>Risk 1 (High)  </td><td>443 E ILLINOIS ST </td><td>CHICAGO</td><td>IL</td><td>60611</td><td>⋯</td><td>0</td><td>0</td><td>1</td><td>0</td><td>1</td><td>0</td><td>0</td><td>0</td><td>0</td><td>0</td></tr>\n",
       "\t<tr><th scope=row>2</th><td>2600874</td><td><span style=white-space:pre-wrap>J'S DELI GROCERY &amp; GRILL, INC.      </span></td><td><span style=white-space:pre-wrap>J'S DELI GROCERY &amp; GRILL       </span></td><td>2694034</td><td><span style=white-space:pre-wrap>          </span></td><td>Risk 2 (Medium)</td><td><span style=white-space:pre-wrap>51 E 51ST ST      </span></td><td>CHICAGO</td><td>IL</td><td>60615</td><td>⋯</td><td>0</td><td>0</td><td>0</td><td>0</td><td>0</td><td>0</td><td>0</td><td>0</td><td>0</td><td>0</td></tr>\n",
       "\t<tr><th scope=row>3</th><td>2600871</td><td>WEST END TATA'S PIZZA               </td><td>WEST END TATA'S PIZZA          </td><td>1948046</td><td>Restaurant</td><td>Risk 1 (High)  </td><td>3019 W 111TH ST   </td><td>CHICAGO</td><td>IL</td><td>60655</td><td>⋯</td><td>0</td><td>0</td><td>0</td><td>0</td><td>0</td><td>0</td><td>0</td><td>0</td><td>0</td><td>0</td></tr>\n",
       "\t<tr><th scope=row>4</th><td>2600845</td><td>ONE STOP JAMAICA JERK RESTAURANT,LLC</td><td>PARK ISLAND JERK               </td><td>2791335</td><td>Restaurant</td><td>Risk 1 (High)  </td><td>319 W 95TH ST     </td><td>CHICAGO</td><td>IL</td><td>60628</td><td>⋯</td><td>0</td><td>0</td><td>0</td><td>0</td><td>0</td><td>0</td><td>0</td><td>0</td><td>0</td><td>0</td></tr>\n",
       "\t<tr><th scope=row>5</th><td>2600840</td><td>MOUNT CAROL'S FROZEN TREATS LLC     </td><td>MOUNT CAROL'S FROZEN TREATS LLC</td><td>2929007</td><td>Restaurant</td><td>Risk 1 (High)  </td><td>2701 W 79TH ST    </td><td>CHICAGO</td><td>IL</td><td>60652</td><td>⋯</td><td>1</td><td>0</td><td>0</td><td>1</td><td>1</td><td>0</td><td>0</td><td>0</td><td>0</td><td>0</td></tr>\n",
       "\t<tr><th scope=row>6</th><td>2600796</td><td>HOTEL RIU PLAZA CHICAGO             </td><td>RIU PLAZA CHICAGO              </td><td>2957208</td><td>Restaurant</td><td>Risk 3 (Low)   </td><td>150 E ONTARIO ST  </td><td>CHICAGO</td><td>IL</td><td>60611</td><td>⋯</td><td>0</td><td>0</td><td>0</td><td>0</td><td>0</td><td>0</td><td>0</td><td>0</td><td>0</td><td>0</td></tr>\n",
       "</tbody>\n",
       "</table>\n"
      ],
      "text/latex": [
       "A data.frame: 6 × 81\n",
       "\\begin{tabular}{r|lllllllllllllllllllll}\n",
       "  & inspection\\_id & dba\\_name & aka\\_name & license & facility\\_type & risk & address & city & state & zip & ⋯ & 54 & 55 & 56 & 57 & 58 & 59 & 60 & 61 & 62 & 63\\\\\n",
       "  & <int> & <chr> & <chr> & <int> & <chr> & <chr> & <chr> & <chr> & <chr> & <int> & ⋯ & <int> & <int> & <int> & <int> & <int> & <int> & <int> & <int> & <int> & <int>\\\\\n",
       "\\hline\n",
       "\t1 & 2601895 & PINCHED                              & PINCHED                         & 2615889 & Restaurant & Risk 1 (High)   & 443 E ILLINOIS ST  & CHICAGO & IL & 60611 & ⋯ & 0 & 0 & 1 & 0 & 1 & 0 & 0 & 0 & 0 & 0\\\\\n",
       "\t2 & 2600874 & J'S DELI GROCERY \\& GRILL, INC.       & J'S DELI GROCERY \\& GRILL        & 2694034 &            & Risk 2 (Medium) & 51 E 51ST ST       & CHICAGO & IL & 60615 & ⋯ & 0 & 0 & 0 & 0 & 0 & 0 & 0 & 0 & 0 & 0\\\\\n",
       "\t3 & 2600871 & WEST END TATA'S PIZZA                & WEST END TATA'S PIZZA           & 1948046 & Restaurant & Risk 1 (High)   & 3019 W 111TH ST    & CHICAGO & IL & 60655 & ⋯ & 0 & 0 & 0 & 0 & 0 & 0 & 0 & 0 & 0 & 0\\\\\n",
       "\t4 & 2600845 & ONE STOP JAMAICA JERK RESTAURANT,LLC & PARK ISLAND JERK                & 2791335 & Restaurant & Risk 1 (High)   & 319 W 95TH ST      & CHICAGO & IL & 60628 & ⋯ & 0 & 0 & 0 & 0 & 0 & 0 & 0 & 0 & 0 & 0\\\\\n",
       "\t5 & 2600840 & MOUNT CAROL'S FROZEN TREATS LLC      & MOUNT CAROL'S FROZEN TREATS LLC & 2929007 & Restaurant & Risk 1 (High)   & 2701 W 79TH ST     & CHICAGO & IL & 60652 & ⋯ & 1 & 0 & 0 & 1 & 1 & 0 & 0 & 0 & 0 & 0\\\\\n",
       "\t6 & 2600796 & HOTEL RIU PLAZA CHICAGO              & RIU PLAZA CHICAGO               & 2957208 & Restaurant & Risk 3 (Low)    & 150 E ONTARIO ST   & CHICAGO & IL & 60611 & ⋯ & 0 & 0 & 0 & 0 & 0 & 0 & 0 & 0 & 0 & 0\\\\\n",
       "\\end{tabular}\n"
      ],
      "text/markdown": [
       "\n",
       "A data.frame: 6 × 81\n",
       "\n",
       "| <!--/--> | inspection_id &lt;int&gt; | dba_name &lt;chr&gt; | aka_name &lt;chr&gt; | license &lt;int&gt; | facility_type &lt;chr&gt; | risk &lt;chr&gt; | address &lt;chr&gt; | city &lt;chr&gt; | state &lt;chr&gt; | zip &lt;int&gt; | ⋯ ⋯ | 54 &lt;int&gt; | 55 &lt;int&gt; | 56 &lt;int&gt; | 57 &lt;int&gt; | 58 &lt;int&gt; | 59 &lt;int&gt; | 60 &lt;int&gt; | 61 &lt;int&gt; | 62 &lt;int&gt; | 63 &lt;int&gt; |\n",
       "|---|---|---|---|---|---|---|---|---|---|---|---|---|---|---|---|---|---|---|---|---|---|\n",
       "| 1 | 2601895 | PINCHED                              | PINCHED                         | 2615889 | Restaurant | Risk 1 (High)   | 443 E ILLINOIS ST  | CHICAGO | IL | 60611 | ⋯ | 0 | 0 | 1 | 0 | 1 | 0 | 0 | 0 | 0 | 0 |\n",
       "| 2 | 2600874 | J'S DELI GROCERY &amp; GRILL, INC.       | J'S DELI GROCERY &amp; GRILL        | 2694034 | <!----> | Risk 2 (Medium) | 51 E 51ST ST       | CHICAGO | IL | 60615 | ⋯ | 0 | 0 | 0 | 0 | 0 | 0 | 0 | 0 | 0 | 0 |\n",
       "| 3 | 2600871 | WEST END TATA'S PIZZA                | WEST END TATA'S PIZZA           | 1948046 | Restaurant | Risk 1 (High)   | 3019 W 111TH ST    | CHICAGO | IL | 60655 | ⋯ | 0 | 0 | 0 | 0 | 0 | 0 | 0 | 0 | 0 | 0 |\n",
       "| 4 | 2600845 | ONE STOP JAMAICA JERK RESTAURANT,LLC | PARK ISLAND JERK                | 2791335 | Restaurant | Risk 1 (High)   | 319 W 95TH ST      | CHICAGO | IL | 60628 | ⋯ | 0 | 0 | 0 | 0 | 0 | 0 | 0 | 0 | 0 | 0 |\n",
       "| 5 | 2600840 | MOUNT CAROL'S FROZEN TREATS LLC      | MOUNT CAROL'S FROZEN TREATS LLC | 2929007 | Restaurant | Risk 1 (High)   | 2701 W 79TH ST     | CHICAGO | IL | 60652 | ⋯ | 1 | 0 | 0 | 1 | 1 | 0 | 0 | 0 | 0 | 0 |\n",
       "| 6 | 2600796 | HOTEL RIU PLAZA CHICAGO              | RIU PLAZA CHICAGO               | 2957208 | Restaurant | Risk 3 (Low)    | 150 E ONTARIO ST   | CHICAGO | IL | 60611 | ⋯ | 0 | 0 | 0 | 0 | 0 | 0 | 0 | 0 | 0 | 0 |\n",
       "\n"
      ],
      "text/plain": [
       "  inspection_id dba_name                            \n",
       "1 2601895       PINCHED                             \n",
       "2 2600874       J'S DELI GROCERY & GRILL, INC.      \n",
       "3 2600871       WEST END TATA'S PIZZA               \n",
       "4 2600845       ONE STOP JAMAICA JERK RESTAURANT,LLC\n",
       "5 2600840       MOUNT CAROL'S FROZEN TREATS LLC     \n",
       "6 2600796       HOTEL RIU PLAZA CHICAGO             \n",
       "  aka_name                        license facility_type risk           \n",
       "1 PINCHED                         2615889 Restaurant    Risk 1 (High)  \n",
       "2 J'S DELI GROCERY & GRILL        2694034               Risk 2 (Medium)\n",
       "3 WEST END TATA'S PIZZA           1948046 Restaurant    Risk 1 (High)  \n",
       "4 PARK ISLAND JERK                2791335 Restaurant    Risk 1 (High)  \n",
       "5 MOUNT CAROL'S FROZEN TREATS LLC 2929007 Restaurant    Risk 1 (High)  \n",
       "6 RIU PLAZA CHICAGO               2957208 Restaurant    Risk 3 (Low)   \n",
       "  address            city    state zip   ⋯ 54 55 56 57 58 59 60 61 62 63\n",
       "1 443 E ILLINOIS ST  CHICAGO IL    60611 ⋯ 0  0  1  0  1  0  0  0  0  0 \n",
       "2 51 E 51ST ST       CHICAGO IL    60615 ⋯ 0  0  0  0  0  0  0  0  0  0 \n",
       "3 3019 W 111TH ST    CHICAGO IL    60655 ⋯ 0  0  0  0  0  0  0  0  0  0 \n",
       "4 319 W 95TH ST      CHICAGO IL    60628 ⋯ 0  0  0  0  0  0  0  0  0  0 \n",
       "5 2701 W 79TH ST     CHICAGO IL    60652 ⋯ 1  0  0  1  1  0  0  0  0  0 \n",
       "6 150 E ONTARIO ST   CHICAGO IL    60611 ⋯ 0  0  0  0  0  0  0  0  0  0 "
      ]
     },
     "metadata": {},
     "output_type": "display_data"
    }
   ],
   "source": [
    "#create 63 new columns for each of the violations\n",
    "for (i in 1:63) {\n",
    "  #cconstruct the pattern that will be searched for -- in this case it is the violation number and a '.'\n",
    "  pattern <- paste0(i, \"\\\\.\")\n",
    "  \n",
    "  #create a new column with the count of occurrences of the pattern in the violations column\n",
    "  food_inspections_new[[as.character(i)]] <- str_count(food_inspections_new$violations, pattern)\n",
    "}\n",
    "\n",
    "#view the dataframe\n",
    "head(food_inspections_new)"
   ]
  },
  {
   "cell_type": "markdown",
   "id": "effbef8a",
   "metadata": {
    "papermill": {
     "duration": 0.019071,
     "end_time": "2024-09-10T03:55:48.367656",
     "exception": false,
     "start_time": "2024-09-10T03:55:48.348585",
     "status": "completed"
    },
    "tags": []
   },
   "source": [
    "Now that all 63 violations are accounted for, the totals can be found of each violation in order to determine which violations are most common."
   ]
  },
  {
   "cell_type": "code",
   "execution_count": 17,
   "id": "481fe781",
   "metadata": {
    "execution": {
     "iopub.execute_input": "2024-09-10T03:55:48.410360Z",
     "iopub.status.busy": "2024-09-10T03:55:48.408560Z",
     "iopub.status.idle": "2024-09-10T03:55:48.481321Z",
     "shell.execute_reply": "2024-09-10T03:55:48.479310Z"
    },
    "papermill": {
     "duration": 0.097922,
     "end_time": "2024-09-10T03:55:48.485431",
     "exception": false,
     "start_time": "2024-09-10T03:55:48.387509",
     "status": "completed"
    },
    "tags": []
   },
   "outputs": [],
   "source": [
    "#calculate the total count for each of the 63 columns\n",
    "totals <- colSums(food_inspections_new[, as.character(1:63)])\n",
    "#convert the totals to a readable dataframe\n",
    "totals <- data.frame(violation_number = names(totals), total_count = totals)"
   ]
  },
  {
   "cell_type": "markdown",
   "id": "eb28ad54",
   "metadata": {
    "papermill": {
     "duration": 0.018932,
     "end_time": "2024-09-10T03:55:48.523364",
     "exception": false,
     "start_time": "2024-09-10T03:55:48.504432",
     "status": "completed"
    },
    "tags": []
   },
   "source": [
    "To view these totals from highest to lowest the dataframe created can be rearranged using the arrange() function."
   ]
  },
  {
   "cell_type": "code",
   "execution_count": 18,
   "id": "86e92dc4",
   "metadata": {
    "execution": {
     "iopub.execute_input": "2024-09-10T03:55:48.566760Z",
     "iopub.status.busy": "2024-09-10T03:55:48.564924Z",
     "iopub.status.idle": "2024-09-10T03:55:48.595936Z",
     "shell.execute_reply": "2024-09-10T03:55:48.592929Z"
    },
    "papermill": {
     "duration": 0.056228,
     "end_time": "2024-09-10T03:55:48.598744",
     "exception": false,
     "start_time": "2024-09-10T03:55:48.542516",
     "status": "completed"
    },
    "tags": []
   },
   "outputs": [
    {
     "name": "stdout",
     "output_type": "stream",
     "text": [
      "   violation_number total_count\n",
      "5                 5      126808\n",
      "1                 1       71101\n",
      "55               55       65797\n",
      "7                 7       56667\n",
      "3                 3       50161\n",
      "8                 8       46216\n",
      "2                 2       40846\n",
      "9                 9       37878\n",
      "6                 6       37763\n",
      "10               10       31070\n",
      "47               47       30787\n",
      "49               49       24592\n",
      "51               51       23432\n",
      "56               56       19664\n",
      "38               38       17884\n",
      "4                 4       17750\n",
      "58               58       16984\n",
      "53               53       14751\n",
      "57               57       12792\n",
      "37               37       10864\n",
      "48               48        8819\n",
      "39               39        8551\n",
      "36               36        8286\n",
      "41               41        7539\n",
      "25               25        7206\n",
      "23               23        6705\n",
      "16               16        6555\n",
      "60               60        6417\n",
      "22               22        5543\n",
      "12               12        5305\n",
      "54               54        5262\n",
      "40               40        4252\n",
      "44               44        4068\n",
      "45               45        3909\n",
      "33               33        3454\n",
      "50               50        3401\n",
      "43               43        2990\n",
      "52               52        2835\n",
      "59               59        1873\n",
      "61               61        1790\n",
      "21               21        1686\n",
      "46               46        1600\n",
      "35               35        1367\n",
      "20               20        1050\n",
      "15               15         869\n",
      "29               29         861\n",
      "14               14         774\n",
      "19               19         673\n",
      "11               11         524\n",
      "18               18         522\n",
      "62               62         467\n",
      "28               28         464\n",
      "30               30         460\n",
      "32               32         451\n",
      "24               24         346\n",
      "13               13         333\n",
      "63               63         275\n",
      "17               17         201\n",
      "27               27         104\n",
      "42               42          95\n",
      "26               26          90\n",
      "31               31          71\n",
      "34               34          47\n"
     ]
    }
   ],
   "source": [
    "#arrange totals in descending order based on total_count\n",
    "totals_ordered <- totals %>% arrange(desc(total_count))\n",
    "\n",
    "# View the ordered data frame\n",
    "print(totals_ordered)"
   ]
  },
  {
   "cell_type": "markdown",
   "id": "90949914",
   "metadata": {
    "papermill": {
     "duration": 0.01886,
     "end_time": "2024-09-10T03:55:48.637297",
     "exception": false,
     "start_time": "2024-09-10T03:55:48.618437",
     "status": "completed"
    },
    "tags": []
   },
   "source": [
    "From this arranged dataframe of the totals based on violations it is known that the top 5 violations cited are numbers 5, 1, 55, 7, and 3. These violations are: \n",
    "* Violation 5 = \"Procedures for responding to vomiting and diarrheal events\"\n",
    "* Violation 1 = \"Person in charge present, demonstrates knowledge, and performs duties\"\n",
    "* Violation 55 = \"Physical facilities installed, maintained & clean\"\n",
    "* Violation 7 = \"No discharge from eyes, nose, and mouth\"\n",
    "* Violation 3 = \"Management, food employee and conditional employee; knowledge, responsibilities and reporting\"\n",
    "    \n",
    "Additionally, it is known that the least cited violations are numbers 34, 31, 26, 42, and 27. These violations are: \n",
    "* Violation 34 = \"Plant food properly cooked for hot holding\"\n",
    "* Violation 31 = \"Water & ice from approved source\"\n",
    "* Violation 26 = \"Pasteurized foods used; prohibited foods not offered\"\n",
    "* Violation 42 = \"Washing fruits & vegetables\"\n",
    "* Violation 27 = \"Food additives: approved and properly used\""
   ]
  },
  {
   "cell_type": "markdown",
   "id": "bf631999",
   "metadata": {
    "papermill": {
     "duration": 0.018707,
     "end_time": "2024-09-10T03:55:48.674949",
     "exception": false,
     "start_time": "2024-09-10T03:55:48.656242",
     "status": "completed"
    },
    "tags": []
   },
   "source": [
    "## 5. Share\n",
    "This data can be visualized in different charts using ggplot. \n",
    "\n",
    "#### Food Establishments and Inspection Results \n"
   ]
  },
  {
   "cell_type": "code",
   "execution_count": 19,
   "id": "7f812666",
   "metadata": {
    "execution": {
     "iopub.execute_input": "2024-09-10T03:55:48.716978Z",
     "iopub.status.busy": "2024-09-10T03:55:48.715183Z",
     "iopub.status.idle": "2024-09-10T03:55:49.413573Z",
     "shell.execute_reply": "2024-09-10T03:55:49.411399Z"
    },
    "papermill": {
     "duration": 0.722575,
     "end_time": "2024-09-10T03:55:49.416438",
     "exception": false,
     "start_time": "2024-09-10T03:55:48.693863",
     "status": "completed"
    },
    "tags": []
   },
   "outputs": [
    {
     "data": {
      "image/png": "[encoded data removed]"
     },
     "metadata": {
      "image/png": {
       "height": 420,
       "width": 420
      }
     },
     "output_type": "display_data"
    }
   ],
   "source": [
    "#count distinct places per result\n",
    "food_inspections_summary <- food_inspections %>%\n",
    "  group_by(results) %>%\n",
    "  summarise(distinct_identifier = n_distinct(identifier))\n",
    "\n",
    "#create a bar chart\n",
    "ggplot(food_inspections_summary, aes(x = results, y = distinct_identifier)) +\n",
    "  geom_bar(stat = \"identity\", fill = \"steelblue2\") +\n",
    "#add bar labels above for y values  \n",
    "  geom_text(aes(label = distinct_identifier),\n",
    "           vjust = -0.5,\n",
    "           size = 4) +\n",
    "  labs(title = \"Number of Food Establishments vs Results\", \n",
    "       x = \"Results\", \n",
    "       y = \"Number of Establishments\") +\n",
    "  theme_minimal()"
   ]
  },
  {
   "cell_type": "markdown",
   "id": "37f12ee2",
   "metadata": {
    "papermill": {
     "duration": 0.020187,
     "end_time": "2024-09-10T03:55:49.457292",
     "exception": false,
     "start_time": "2024-09-10T03:55:49.437105",
     "status": "completed"
    },
    "tags": []
   },
   "source": [
    "#### Food Establishments and Risk Type"
   ]
  },
  {
   "cell_type": "code",
   "execution_count": 20,
   "id": "f6ce7646",
   "metadata": {
    "execution": {
     "iopub.execute_input": "2024-09-10T03:55:49.501709Z",
     "iopub.status.busy": "2024-09-10T03:55:49.499875Z",
     "iopub.status.idle": "2024-09-10T03:55:49.886898Z",
     "shell.execute_reply": "2024-09-10T03:55:49.884772Z"
    },
    "papermill": {
     "duration": 0.41226,
     "end_time": "2024-09-10T03:55:49.889555",
     "exception": false,
     "start_time": "2024-09-10T03:55:49.477295",
     "status": "completed"
    },
    "tags": []
   },
   "outputs": [
    {
     "data": {
      "image/png": "[encoded data removed]"
     },
     "metadata": {
      "image/png": {
       "height": 420,
       "width": 420
      }
     },
     "output_type": "display_data"
    }
   ],
   "source": [
    "#distinct count of places per risk\n",
    "food_inspections_summary2 <- food_inspections %>%\n",
    "  group_by(risk) %>%\n",
    "  summarise(distinct_identifier2 = n_distinct(identifier))\n",
    "#make bar chart\n",
    "ggplot(food_inspections_summary2, aes(x = risk, y = distinct_identifier2)) +\n",
    "    geom_bar(stat = \"identity\", fill = \"steelblue2\") +\n",
    "    geom_text(aes(label = distinct_identifier2),\n",
    "             vjust = -0.5,\n",
    "             size = 4) +\n",
    "labs(title = \"Number of Food Establishments vs. Risk Type\",\n",
    "    x = \"Risk Type\",\n",
    "    y = \"Number of Food Establishments\") +\n",
    "theme_minimal()"
   ]
  },
  {
   "cell_type": "markdown",
   "id": "ba20e0c7",
   "metadata": {
    "papermill": {
     "duration": 0.020769,
     "end_time": "2024-09-10T03:55:49.931215",
     "exception": false,
     "start_time": "2024-09-10T03:55:49.910446",
     "status": "completed"
    },
    "tags": []
   },
   "source": [
    "#### Inspections by Zip Code"
   ]
  },
  {
   "cell_type": "code",
   "execution_count": 21,
   "id": "63d2221a",
   "metadata": {
    "execution": {
     "iopub.execute_input": "2024-09-10T03:55:49.981040Z",
     "iopub.status.busy": "2024-09-10T03:55:49.977977Z",
     "iopub.status.idle": "2024-09-10T03:55:50.534189Z",
     "shell.execute_reply": "2024-09-10T03:55:50.530703Z"
    },
    "papermill": {
     "duration": 0.584348,
     "end_time": "2024-09-10T03:55:50.538175",
     "exception": false,
     "start_time": "2024-09-10T03:55:49.953827",
     "status": "completed"
    },
    "tags": []
   },
   "outputs": [
    {
     "data": {
      "image/png": "[encoded data removed]"
     },
     "metadata": {
      "image/png": {
       "height": 420,
       "width": 420
      }
     },
     "output_type": "display_data"
    }
   ],
   "source": [
    "#filter for only chicago zipcodes\n",
    "filteredzip <- food_inspections %>%\n",
    "    filter(zip >= 60600 & zip <= 60700)\n",
    "#make bar chart\n",
    "ggplot(filteredzip, aes(x = zip)) +\n",
    "    geom_bar(fill = \"steelblue2\") +\n",
    "labs(title = \"Inspections per Zip Code\",\n",
    "     x = \"Zip Code\",\n",
    "     y = \"Number of Inspections\") +\n",
    "theme_minimal()"
   ]
  },
  {
   "cell_type": "markdown",
   "id": "573bddbe",
   "metadata": {
    "papermill": {
     "duration": 0.02188,
     "end_time": "2024-09-10T03:55:50.582571",
     "exception": false,
     "start_time": "2024-09-10T03:55:50.560691",
     "status": "completed"
    },
    "tags": []
   },
   "source": [
    "#### Inspections per Year"
   ]
  },
  {
   "cell_type": "code",
   "execution_count": 22,
   "id": "c29eccf5",
   "metadata": {
    "execution": {
     "iopub.execute_input": "2024-09-10T03:55:50.630842Z",
     "iopub.status.busy": "2024-09-10T03:55:50.628965Z",
     "iopub.status.idle": "2024-09-10T03:55:51.461118Z",
     "shell.execute_reply": "2024-09-10T03:55:51.457845Z"
    },
    "papermill": {
     "duration": 0.860435,
     "end_time": "2024-09-10T03:55:51.464981",
     "exception": false,
     "start_time": "2024-09-10T03:55:50.604546",
     "status": "completed"
    },
    "tags": []
   },
   "outputs": [
    {
     "data": {
      "image/png": "[encoded data removed]"
     },
     "metadata": {
      "image/png": {
       "height": 420,
       "width": 420
      }
     },
     "output_type": "display_data"
    }
   ],
   "source": [
    "#insert a years column from the inspection dates\n",
    "food_inspections$year <- format(food_inspections$inspection_date, \"%Y\")\n",
    "#create bar chart\n",
    "ggplot(food_inspections, aes(x = year)) +\n",
    "    geom_bar(fill = \"steelblue2\") +\n",
    "    geom_text(stat = \"count\", aes(label = after_stat(count)), \n",
    "             vjust = -0.5) +\n",
    "labs(title = \"Inspections per Year\",\n",
    "     x = \"Year\",\n",
    "     y = \"Number of Inspections\") +\n",
    "theme_minimal()"
   ]
  },
  {
   "cell_type": "markdown",
   "id": "088de82f",
   "metadata": {
    "papermill": {
     "duration": 0.023547,
     "end_time": "2024-09-10T03:55:51.511448",
     "exception": false,
     "start_time": "2024-09-10T03:55:51.487901",
     "status": "completed"
    },
    "tags": []
   },
   "source": [
    "#### Violations Count"
   ]
  },
  {
   "cell_type": "code",
   "execution_count": 23,
   "id": "b38d47cb",
   "metadata": {
    "execution": {
     "iopub.execute_input": "2024-09-10T03:55:51.564491Z",
     "iopub.status.busy": "2024-09-10T03:55:51.562580Z",
     "iopub.status.idle": "2024-09-10T03:55:51.889463Z",
     "shell.execute_reply": "2024-09-10T03:55:51.886270Z"
    },
    "papermill": {
     "duration": 0.35847,
     "end_time": "2024-09-10T03:55:51.893361",
     "exception": false,
     "start_time": "2024-09-10T03:55:51.534891",
     "status": "completed"
    },
    "tags": []
   },
   "outputs": [
    {
     "data": {
      "image/png": "[encoded data removed]"
     },
     "metadata": {
      "image/png": {
       "height": 420,
       "width": 420
      }
     },
     "output_type": "display_data"
    }
   ],
   "source": [
    "#make bar chart\n",
    "ggplot(totals, aes(x = violation_number, y = total_count)) +\n",
    "    geom_bar(stat = \"identity\", fill = \"steelblue2\") +\n",
    "labs(title = \"Number of Violations\", \n",
    "     x = \"Violation Number\", \n",
    "     y = \"Total Count\") +\n",
    "theme_minimal() +\n",
    "#reduce the number of x labels\n",
    "scale_x_discrete(breaks = totals$violation_number[seq(1, length(totals$violation_number), by = 8)])"
   ]
  },
  {
   "cell_type": "markdown",
   "id": "d03492f7",
   "metadata": {
    "papermill": {
     "duration": 0.023657,
     "end_time": "2024-09-10T03:55:51.940852",
     "exception": false,
     "start_time": "2024-09-10T03:55:51.917195",
     "status": "completed"
    },
    "tags": []
   },
   "source": [
    "## 6. Act\n",
    "#### Key Insights Summary:\n",
    "* The food inspections recorded in this dataset take place from 01.04.2010 through 08.29.2024.\n",
    "\n",
    "* The amount of inspections recorded are 277,961.\n",
    "\n",
    "* The amount of food establishments inspected by the City of Chicago from are 37,758.\n",
    "\n",
    "* The zip code with the highest amount of inspections is 60614.\n",
    "\n",
    "* The majority of food establishments pass, this is evident by the 51.48% pass rate and 15.21% pass rate with conditions, while 19.51% are failed inspections.\n",
    "\n",
    "* The top 5 violations cited from 2018 onward are 5, 1, 55, 7, and 3.\n",
    "\n",
    "#### Recommendations:\n",
    "Based on this analysis, I recommend the city take into consideration creating a citywide health training that is available to all food establishments. This training should outline the proper food handling procedures, but place an emphasis on expectations from food service workers. This would help reduce the amount of violations found in food Establishments. Regular compliance checks should be incorporated to maintain high standards over time.\n",
    "\n",
    "#### Interactive Dashboard Link:\n",
    "As a supplement to this analysis I have created an interactive tableau dashboard which can be found [here](https://public.tableau.com/views/ChicagoFoodInspectionsDashboard/Dashboard4?:language=en-US&:sid=&:redirect=auth&:display_count=n&:origin=viz_share_link). This dashboard also allows a user to search for specific restaurants and view specific violations by inspection dates. "
   ]
  }
 ],
 "metadata": {
  "kaggle": {
   "accelerator": "none",
   "dataSources": [
    {
     "datasetId": 5645938,
     "sourceId": 9320664,
     "sourceType": "datasetVersion"
    }
   ],
   "dockerImageVersionId": 30749,
   "isGpuEnabled": false,
   "isInternetEnabled": true,
   "language": "r",
   "sourceType": "notebook"
  },
  "kernelspec": {
   "display_name": "R",
   "language": "R",
   "name": "ir"
  },
  "language_info": {
   "codemirror_mode": "r",
   "file_extension": ".r",
   "mimetype": "text/x-r-source",
   "name": "R",
   "pygments_lexer": "r",
   "version": "4.4.0"
  },
  "papermill": {
   "default_parameters": {},
   "duration": 60.344349,
   "end_time": "2024-09-10T03:55:52.091513",
   "environment_variables": {},
   "exception": null,
   "input_path": "__notebook__.ipynb",
   "output_path": "__notebook__.ipynb",
   "parameters": {},
   "start_time": "2024-09-10T03:54:51.747164",
   "version": "2.6.0"
  }
 },
 "nbformat": 4,
 "nbformat_minor": 5
}
